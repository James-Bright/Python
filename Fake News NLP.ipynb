{
 "cells": [
  {
   "cell_type": "markdown",
   "id": "5fd6783a",
   "metadata": {},
   "source": [
    "The aim of this notebook is to implement nlp techniques to determine whether a news article is real or fake. The dataset can be found at https://www.kaggle.com/datasets/clmentbisaillon/fake-and-real-news-dataset"
   ]
  },
  {
   "cell_type": "code",
   "execution_count": 2,
   "id": "21b970e2",
   "metadata": {},
   "outputs": [],
   "source": [
    "# Import required libraries\n",
    "import numpy as np\n",
    "import pandas as pd\n",
    "import matplotlib.pyplot as plt\n",
    "import seaborn as sns\n",
    "import tensorflow as tf"
   ]
  },
  {
   "cell_type": "code",
   "execution_count": 3,
   "id": "f505a00d",
   "metadata": {},
   "outputs": [
    {
     "data": {
      "text/html": [
       "<div>\n",
       "<style scoped>\n",
       "    .dataframe tbody tr th:only-of-type {\n",
       "        vertical-align: middle;\n",
       "    }\n",
       "\n",
       "    .dataframe tbody tr th {\n",
       "        vertical-align: top;\n",
       "    }\n",
       "\n",
       "    .dataframe thead th {\n",
       "        text-align: right;\n",
       "    }\n",
       "</style>\n",
       "<table border=\"1\" class=\"dataframe\">\n",
       "  <thead>\n",
       "    <tr style=\"text-align: right;\">\n",
       "      <th></th>\n",
       "      <th>title</th>\n",
       "      <th>text</th>\n",
       "      <th>subject</th>\n",
       "      <th>date</th>\n",
       "    </tr>\n",
       "  </thead>\n",
       "  <tbody>\n",
       "    <tr>\n",
       "      <th>0</th>\n",
       "      <td>As U.S. budget fight looms, Republicans flip t...</td>\n",
       "      <td>WASHINGTON (Reuters) - The head of a conservat...</td>\n",
       "      <td>politicsNews</td>\n",
       "      <td>December 31, 2017</td>\n",
       "    </tr>\n",
       "    <tr>\n",
       "      <th>1</th>\n",
       "      <td>U.S. military to accept transgender recruits o...</td>\n",
       "      <td>WASHINGTON (Reuters) - Transgender people will...</td>\n",
       "      <td>politicsNews</td>\n",
       "      <td>December 29, 2017</td>\n",
       "    </tr>\n",
       "    <tr>\n",
       "      <th>2</th>\n",
       "      <td>Senior U.S. Republican senator: 'Let Mr. Muell...</td>\n",
       "      <td>WASHINGTON (Reuters) - The special counsel inv...</td>\n",
       "      <td>politicsNews</td>\n",
       "      <td>December 31, 2017</td>\n",
       "    </tr>\n",
       "    <tr>\n",
       "      <th>3</th>\n",
       "      <td>FBI Russia probe helped by Australian diplomat...</td>\n",
       "      <td>WASHINGTON (Reuters) - Trump campaign adviser ...</td>\n",
       "      <td>politicsNews</td>\n",
       "      <td>December 30, 2017</td>\n",
       "    </tr>\n",
       "    <tr>\n",
       "      <th>4</th>\n",
       "      <td>Trump wants Postal Service to charge 'much mor...</td>\n",
       "      <td>SEATTLE/WASHINGTON (Reuters) - President Donal...</td>\n",
       "      <td>politicsNews</td>\n",
       "      <td>December 29, 2017</td>\n",
       "    </tr>\n",
       "  </tbody>\n",
       "</table>\n",
       "</div>"
      ],
      "text/plain": [
       "                                               title  \\\n",
       "0  As U.S. budget fight looms, Republicans flip t...   \n",
       "1  U.S. military to accept transgender recruits o...   \n",
       "2  Senior U.S. Republican senator: 'Let Mr. Muell...   \n",
       "3  FBI Russia probe helped by Australian diplomat...   \n",
       "4  Trump wants Postal Service to charge 'much mor...   \n",
       "\n",
       "                                                text       subject  \\\n",
       "0  WASHINGTON (Reuters) - The head of a conservat...  politicsNews   \n",
       "1  WASHINGTON (Reuters) - Transgender people will...  politicsNews   \n",
       "2  WASHINGTON (Reuters) - The special counsel inv...  politicsNews   \n",
       "3  WASHINGTON (Reuters) - Trump campaign adviser ...  politicsNews   \n",
       "4  SEATTLE/WASHINGTON (Reuters) - President Donal...  politicsNews   \n",
       "\n",
       "                 date  \n",
       "0  December 31, 2017   \n",
       "1  December 29, 2017   \n",
       "2  December 31, 2017   \n",
       "3  December 30, 2017   \n",
       "4  December 29, 2017   "
      ]
     },
     "metadata": {},
     "output_type": "display_data"
    },
    {
     "data": {
      "text/html": [
       "<div>\n",
       "<style scoped>\n",
       "    .dataframe tbody tr th:only-of-type {\n",
       "        vertical-align: middle;\n",
       "    }\n",
       "\n",
       "    .dataframe tbody tr th {\n",
       "        vertical-align: top;\n",
       "    }\n",
       "\n",
       "    .dataframe thead th {\n",
       "        text-align: right;\n",
       "    }\n",
       "</style>\n",
       "<table border=\"1\" class=\"dataframe\">\n",
       "  <thead>\n",
       "    <tr style=\"text-align: right;\">\n",
       "      <th></th>\n",
       "      <th>title</th>\n",
       "      <th>text</th>\n",
       "      <th>subject</th>\n",
       "      <th>date</th>\n",
       "    </tr>\n",
       "  </thead>\n",
       "  <tbody>\n",
       "    <tr>\n",
       "      <th>0</th>\n",
       "      <td>Donald Trump Sends Out Embarrassing New Year’...</td>\n",
       "      <td>Donald Trump just couldn t wish all Americans ...</td>\n",
       "      <td>News</td>\n",
       "      <td>December 31, 2017</td>\n",
       "    </tr>\n",
       "    <tr>\n",
       "      <th>1</th>\n",
       "      <td>Drunk Bragging Trump Staffer Started Russian ...</td>\n",
       "      <td>House Intelligence Committee Chairman Devin Nu...</td>\n",
       "      <td>News</td>\n",
       "      <td>December 31, 2017</td>\n",
       "    </tr>\n",
       "    <tr>\n",
       "      <th>2</th>\n",
       "      <td>Sheriff David Clarke Becomes An Internet Joke...</td>\n",
       "      <td>On Friday, it was revealed that former Milwauk...</td>\n",
       "      <td>News</td>\n",
       "      <td>December 30, 2017</td>\n",
       "    </tr>\n",
       "    <tr>\n",
       "      <th>3</th>\n",
       "      <td>Trump Is So Obsessed He Even Has Obama’s Name...</td>\n",
       "      <td>On Christmas day, Donald Trump announced that ...</td>\n",
       "      <td>News</td>\n",
       "      <td>December 29, 2017</td>\n",
       "    </tr>\n",
       "    <tr>\n",
       "      <th>4</th>\n",
       "      <td>Pope Francis Just Called Out Donald Trump Dur...</td>\n",
       "      <td>Pope Francis used his annual Christmas Day mes...</td>\n",
       "      <td>News</td>\n",
       "      <td>December 25, 2017</td>\n",
       "    </tr>\n",
       "  </tbody>\n",
       "</table>\n",
       "</div>"
      ],
      "text/plain": [
       "                                               title  \\\n",
       "0   Donald Trump Sends Out Embarrassing New Year’...   \n",
       "1   Drunk Bragging Trump Staffer Started Russian ...   \n",
       "2   Sheriff David Clarke Becomes An Internet Joke...   \n",
       "3   Trump Is So Obsessed He Even Has Obama’s Name...   \n",
       "4   Pope Francis Just Called Out Donald Trump Dur...   \n",
       "\n",
       "                                                text subject  \\\n",
       "0  Donald Trump just couldn t wish all Americans ...    News   \n",
       "1  House Intelligence Committee Chairman Devin Nu...    News   \n",
       "2  On Friday, it was revealed that former Milwauk...    News   \n",
       "3  On Christmas day, Donald Trump announced that ...    News   \n",
       "4  Pope Francis used his annual Christmas Day mes...    News   \n",
       "\n",
       "                date  \n",
       "0  December 31, 2017  \n",
       "1  December 31, 2017  \n",
       "2  December 30, 2017  \n",
       "3  December 29, 2017  \n",
       "4  December 25, 2017  "
      ]
     },
     "metadata": {},
     "output_type": "display_data"
    },
    {
     "data": {
      "text/html": [
       "<div>\n",
       "<style scoped>\n",
       "    .dataframe tbody tr th:only-of-type {\n",
       "        vertical-align: middle;\n",
       "    }\n",
       "\n",
       "    .dataframe tbody tr th {\n",
       "        vertical-align: top;\n",
       "    }\n",
       "\n",
       "    .dataframe thead th {\n",
       "        text-align: right;\n",
       "    }\n",
       "</style>\n",
       "<table border=\"1\" class=\"dataframe\">\n",
       "  <thead>\n",
       "    <tr style=\"text-align: right;\">\n",
       "      <th></th>\n",
       "      <th>title</th>\n",
       "      <th>text</th>\n",
       "      <th>subject</th>\n",
       "      <th>date</th>\n",
       "      <th>fake</th>\n",
       "    </tr>\n",
       "  </thead>\n",
       "  <tbody>\n",
       "    <tr>\n",
       "      <th>6307</th>\n",
       "      <td>Kremlin says too early to react to Trump nucle...</td>\n",
       "      <td>MOSCOW (Reuters) - The Kremlin said on Monday ...</td>\n",
       "      <td>politicsNews</td>\n",
       "      <td>January 16, 2017</td>\n",
       "      <td>0</td>\n",
       "    </tr>\n",
       "    <tr>\n",
       "      <th>5239</th>\n",
       "      <td>Countering anti-Trump protests, president's fa...</td>\n",
       "      <td>ATLANTA (Reuters) - Supporters of U.S. Preside...</td>\n",
       "      <td>politicsNews</td>\n",
       "      <td>February 27, 2017</td>\n",
       "      <td>0</td>\n",
       "    </tr>\n",
       "    <tr>\n",
       "      <th>14059</th>\n",
       "      <td>ACTRESS JODIE FOSTER Weighs In On The Phony ‘W...</td>\n",
       "      <td>Jodie Foster gives a dose of common sense to ...</td>\n",
       "      <td>politics</td>\n",
       "      <td>Apr 23, 2016</td>\n",
       "      <td>1</td>\n",
       "    </tr>\n",
       "    <tr>\n",
       "      <th>10272</th>\n",
       "      <td>Ex-Connecticut Governor Rowland appeals convic...</td>\n",
       "      <td>NEW YORK (Reuters) - Former Connecticut Govern...</td>\n",
       "      <td>politicsNews</td>\n",
       "      <td>March 18, 2016</td>\n",
       "      <td>0</td>\n",
       "    </tr>\n",
       "    <tr>\n",
       "      <th>20049</th>\n",
       "      <td>Trump says he will visit Japan, South Korea, C...</td>\n",
       "      <td>ABOARD AIR FORCE ONE (Reuters) - U.S. Presiden...</td>\n",
       "      <td>worldnews</td>\n",
       "      <td>September 14, 2017</td>\n",
       "      <td>0</td>\n",
       "    </tr>\n",
       "  </tbody>\n",
       "</table>\n",
       "</div>"
      ],
      "text/plain": [
       "                                                   title  \\\n",
       "6307   Kremlin says too early to react to Trump nucle...   \n",
       "5239   Countering anti-Trump protests, president's fa...   \n",
       "14059  ACTRESS JODIE FOSTER Weighs In On The Phony ‘W...   \n",
       "10272  Ex-Connecticut Governor Rowland appeals convic...   \n",
       "20049  Trump says he will visit Japan, South Korea, C...   \n",
       "\n",
       "                                                    text       subject  \\\n",
       "6307   MOSCOW (Reuters) - The Kremlin said on Monday ...  politicsNews   \n",
       "5239   ATLANTA (Reuters) - Supporters of U.S. Preside...  politicsNews   \n",
       "14059   Jodie Foster gives a dose of common sense to ...      politics   \n",
       "10272  NEW YORK (Reuters) - Former Connecticut Govern...  politicsNews   \n",
       "20049  ABOARD AIR FORCE ONE (Reuters) - U.S. Presiden...     worldnews   \n",
       "\n",
       "                      date  fake  \n",
       "6307     January 16, 2017      0  \n",
       "5239    February 27, 2017      0  \n",
       "14059         Apr 23, 2016     1  \n",
       "10272      March 18, 2016      0  \n",
       "20049  September 14, 2017      0  "
      ]
     },
     "metadata": {},
     "output_type": "display_data"
    },
    {
     "data": {
      "text/plain": [
       "title      0\n",
       "text       0\n",
       "subject    0\n",
       "date       0\n",
       "fake       0\n",
       "dtype: int64"
      ]
     },
     "metadata": {},
     "output_type": "display_data"
    }
   ],
   "source": [
    "# Import data for true and fake news articles from csvs\n",
    "df_true = pd.read_csv('True.csv')\n",
    "df_fake = pd.read_csv('Fake.csv')\n",
    "\n",
    "display(df_true.head())\n",
    "display(df_fake.head())\n",
    "\n",
    "# Replace the fake column in both dataframes with 1 for fakes and 0 for true articles\n",
    "df_true['fake'] = 0\n",
    "df_fake['fake'] = 1\n",
    "\n",
    "# Combine both the true and fake news articles into a single dataset\n",
    "df = pd.concat([df_true, df_fake])\n",
    "\n",
    "display(df.sample(5))\n",
    "display(df.isnull().sum())"
   ]
  },
  {
   "cell_type": "code",
   "execution_count": 4,
   "id": "c94ce1df",
   "metadata": {},
   "outputs": [
    {
     "data": {
      "image/png": "[encoded data removed]",
      "text/plain": [
       "<Figure size 432x288 with 1 Axes>"
      ]
     },
     "metadata": {
      "needs_background": "light"
     },
     "output_type": "display_data"
    },
    {
     "data": {
      "image/png": "[encoded data removed]",
      "text/plain": [
       "<Figure size 720x360 with 1 Axes>"
      ]
     },
     "metadata": {
      "needs_background": "light"
     },
     "output_type": "display_data"
    },
    {
     "data": {
      "image/png": "[encoded data removed]",
      "text/plain": [
       "<Figure size 432x288 with 1 Axes>"
      ]
     },
     "metadata": {
      "needs_background": "light"
     },
     "output_type": "display_data"
    },
    {
     "data": {
      "image/png": "[encoded data removed]",
      "text/plain": [
       "<Figure size 432x288 with 1 Axes>"
      ]
     },
     "metadata": {
      "needs_background": "light"
     },
     "output_type": "display_data"
    },
    {
     "data": {
      "text/html": [
       "<div>\n",
       "<style scoped>\n",
       "    .dataframe tbody tr th:only-of-type {\n",
       "        vertical-align: middle;\n",
       "    }\n",
       "\n",
       "    .dataframe tbody tr th {\n",
       "        vertical-align: top;\n",
       "    }\n",
       "\n",
       "    .dataframe thead th {\n",
       "        text-align: right;\n",
       "    }\n",
       "</style>\n",
       "<table border=\"1\" class=\"dataframe\">\n",
       "  <thead>\n",
       "    <tr style=\"text-align: right;\">\n",
       "      <th></th>\n",
       "      <th>title</th>\n",
       "      <th>subject</th>\n",
       "      <th>date</th>\n",
       "      <th>fake</th>\n",
       "      <th>year</th>\n",
       "      <th>month</th>\n",
       "    </tr>\n",
       "  </thead>\n",
       "  <tbody>\n",
       "    <tr>\n",
       "      <th>0</th>\n",
       "      <td>As U.S. budget fight looms, Republicans flip t...</td>\n",
       "      <td>politicsNews</td>\n",
       "      <td>2017-12-31</td>\n",
       "      <td>0</td>\n",
       "      <td>2017.0</td>\n",
       "      <td>12.0</td>\n",
       "    </tr>\n",
       "    <tr>\n",
       "      <th>1</th>\n",
       "      <td>U.S. military to accept transgender recruits o...</td>\n",
       "      <td>politicsNews</td>\n",
       "      <td>2017-12-29</td>\n",
       "      <td>0</td>\n",
       "      <td>2017.0</td>\n",
       "      <td>12.0</td>\n",
       "    </tr>\n",
       "    <tr>\n",
       "      <th>2</th>\n",
       "      <td>Senior U.S. Republican senator: 'Let Mr. Muell...</td>\n",
       "      <td>politicsNews</td>\n",
       "      <td>2017-12-31</td>\n",
       "      <td>0</td>\n",
       "      <td>2017.0</td>\n",
       "      <td>12.0</td>\n",
       "    </tr>\n",
       "    <tr>\n",
       "      <th>3</th>\n",
       "      <td>FBI Russia probe helped by Australian diplomat...</td>\n",
       "      <td>politicsNews</td>\n",
       "      <td>2017-12-30</td>\n",
       "      <td>0</td>\n",
       "      <td>2017.0</td>\n",
       "      <td>12.0</td>\n",
       "    </tr>\n",
       "    <tr>\n",
       "      <th>4</th>\n",
       "      <td>Trump wants Postal Service to charge 'much mor...</td>\n",
       "      <td>politicsNews</td>\n",
       "      <td>2017-12-29</td>\n",
       "      <td>0</td>\n",
       "      <td>2017.0</td>\n",
       "      <td>12.0</td>\n",
       "    </tr>\n",
       "  </tbody>\n",
       "</table>\n",
       "</div>"
      ],
      "text/plain": [
       "                                               title       subject       date  \\\n",
       "0  As U.S. budget fight looms, Republicans flip t...  politicsNews 2017-12-31   \n",
       "1  U.S. military to accept transgender recruits o...  politicsNews 2017-12-29   \n",
       "2  Senior U.S. Republican senator: 'Let Mr. Muell...  politicsNews 2017-12-31   \n",
       "3  FBI Russia probe helped by Australian diplomat...  politicsNews 2017-12-30   \n",
       "4  Trump wants Postal Service to charge 'much mor...  politicsNews 2017-12-29   \n",
       "\n",
       "   fake    year  month  \n",
       "0     0  2017.0   12.0  \n",
       "1     0  2017.0   12.0  \n",
       "2     0  2017.0   12.0  \n",
       "3     0  2017.0   12.0  \n",
       "4     0  2017.0   12.0  "
      ]
     },
     "execution_count": 4,
     "metadata": {},
     "output_type": "execute_result"
    }
   ],
   "source": [
    "# Show a count plot for the fake and true data, output shows a fairly even number of true and false articles\n",
    "sns.countplot(x = 'fake', data = df)\n",
    "plt.show()\n",
    "\n",
    "# Show a count plot of the subject of articles, transpires that this is fairly irrelavent\n",
    "plt.figure(figsize = (10,5))\n",
    "sns.countplot(x = 'subject', data = df, hue = 'fake')\n",
    "plt.show()\n",
    "\n",
    "# Convert the date field of the artitcles to type dattieme and extract the year and month\n",
    "df['date'] = pd.to_datetime(df['date'], errors = 'coerce')\n",
    "df['year'] = df['date'].dt.year\n",
    "df['month'] = df['date'].dt.month\n",
    "df.head()\n",
    "\n",
    "# Plot counts of the years and months when the articles were published, both are fairly irrelavent for determining if it is\n",
    "# real or fake\n",
    "sns.countplot(x = 'year', data = df, hue = 'fake')\n",
    "plt.show()\n",
    "sns.countplot(x = 'month', data = df, hue = 'fake')\n",
    "plt.show()\n",
    "\n",
    "# Combine the title and text fields into one and drop the repeated text.\n",
    "df['title'] = df['title'] + df['text']\n",
    "df.drop('text', axis = 1, inplace = True)\n",
    "df.head()\n",
    "\n"
   ]
  },
  {
   "cell_type": "code",
   "execution_count": 5,
   "id": "2e1182d5",
   "metadata": {},
   "outputs": [
    {
     "data": {
      "text/html": [
       "<div>\n",
       "<style scoped>\n",
       "    .dataframe tbody tr th:only-of-type {\n",
       "        vertical-align: middle;\n",
       "    }\n",
       "\n",
       "    .dataframe tbody tr th {\n",
       "        vertical-align: top;\n",
       "    }\n",
       "\n",
       "    .dataframe thead th {\n",
       "        text-align: right;\n",
       "    }\n",
       "</style>\n",
       "<table border=\"1\" class=\"dataframe\">\n",
       "  <thead>\n",
       "    <tr style=\"text-align: right;\">\n",
       "      <th></th>\n",
       "      <th>title</th>\n",
       "      <th>fake</th>\n",
       "    </tr>\n",
       "  </thead>\n",
       "  <tbody>\n",
       "    <tr>\n",
       "      <th>0</th>\n",
       "      <td>As U.S. budget fight looms, Republicans flip t...</td>\n",
       "      <td>0</td>\n",
       "    </tr>\n",
       "    <tr>\n",
       "      <th>1</th>\n",
       "      <td>U.S. military to accept transgender recruits o...</td>\n",
       "      <td>0</td>\n",
       "    </tr>\n",
       "    <tr>\n",
       "      <th>2</th>\n",
       "      <td>Senior U.S. Republican senator: 'Let Mr. Muell...</td>\n",
       "      <td>0</td>\n",
       "    </tr>\n",
       "    <tr>\n",
       "      <th>3</th>\n",
       "      <td>FBI Russia probe helped by Australian diplomat...</td>\n",
       "      <td>0</td>\n",
       "    </tr>\n",
       "    <tr>\n",
       "      <th>4</th>\n",
       "      <td>Trump wants Postal Service to charge 'much mor...</td>\n",
       "      <td>0</td>\n",
       "    </tr>\n",
       "  </tbody>\n",
       "</table>\n",
       "</div>"
      ],
      "text/plain": [
       "                                               title  fake\n",
       "0  As U.S. budget fight looms, Republicans flip t...     0\n",
       "1  U.S. military to accept transgender recruits o...     0\n",
       "2  Senior U.S. Republican senator: 'Let Mr. Muell...     0\n",
       "3  FBI Russia probe helped by Australian diplomat...     0\n",
       "4  Trump wants Postal Service to charge 'much mor...     0"
      ]
     },
     "execution_count": 5,
     "metadata": {},
     "output_type": "execute_result"
    }
   ],
   "source": [
    "# drop the subject, date, year, and month from the dataframe as they have no bearing on whether the article is true or fake\n",
    "df.head()\n",
    "df.drop(['subject','date','year','month'], axis = 1, inplace = True)\n",
    "df.head()"
   ]
  },
  {
   "cell_type": "code",
   "execution_count": 6,
   "id": "6502a705",
   "metadata": {},
   "outputs": [
    {
     "data": {
      "text/html": [
       "<div>\n",
       "<style scoped>\n",
       "    .dataframe tbody tr th:only-of-type {\n",
       "        vertical-align: middle;\n",
       "    }\n",
       "\n",
       "    .dataframe tbody tr th {\n",
       "        vertical-align: top;\n",
       "    }\n",
       "\n",
       "    .dataframe thead th {\n",
       "        text-align: right;\n",
       "    }\n",
       "</style>\n",
       "<table border=\"1\" class=\"dataframe\">\n",
       "  <thead>\n",
       "    <tr style=\"text-align: right;\">\n",
       "      <th></th>\n",
       "      <th>title</th>\n",
       "      <th>fake</th>\n",
       "    </tr>\n",
       "  </thead>\n",
       "  <tbody>\n",
       "    <tr>\n",
       "      <th>21069</th>\n",
       "      <td>UK police say cordon in Bolton lifted, package...</td>\n",
       "      <td>0</td>\n",
       "    </tr>\n",
       "    <tr>\n",
       "      <th>13962</th>\n",
       "      <td>Kosovo war crimes court ready for first indict...</td>\n",
       "      <td>0</td>\n",
       "    </tr>\n",
       "    <tr>\n",
       "      <th>16375</th>\n",
       "      <td>Four killed, 11 injured as train collides with...</td>\n",
       "      <td>0</td>\n",
       "    </tr>\n",
       "    <tr>\n",
       "      <th>15434</th>\n",
       "      <td>(Video) Col. Allen West Explodes Over Iran Dea...</td>\n",
       "      <td>1</td>\n",
       "    </tr>\n",
       "    <tr>\n",
       "      <th>10857</th>\n",
       "      <td>Senate panel to hear from U.S. antitrust bosse...</td>\n",
       "      <td>0</td>\n",
       "    </tr>\n",
       "    <tr>\n",
       "      <th>2666</th>\n",
       "      <td>Trump Insists His Muslim Ban Has Been ‘Going ...</td>\n",
       "      <td>1</td>\n",
       "    </tr>\n",
       "    <tr>\n",
       "      <th>3447</th>\n",
       "      <td>Two Of Trump’s Top Picks Accused Of Violently...</td>\n",
       "      <td>1</td>\n",
       "    </tr>\n",
       "    <tr>\n",
       "      <th>15428</th>\n",
       "      <td>(Video) Breaking: Hillary Clinton Is Facing A ...</td>\n",
       "      <td>1</td>\n",
       "    </tr>\n",
       "    <tr>\n",
       "      <th>10688</th>\n",
       "      <td>BUSTED! UNCOVERED 2009 VIDEO Shows London’s Mu...</td>\n",
       "      <td>1</td>\n",
       "    </tr>\n",
       "    <tr>\n",
       "      <th>10429</th>\n",
       "      <td>Florida legislature approves controversial abo...</td>\n",
       "      <td>0</td>\n",
       "    </tr>\n",
       "    <tr>\n",
       "      <th>18998</th>\n",
       "      <td>The new risk for Europe: an inward-looking Ger...</td>\n",
       "      <td>0</td>\n",
       "    </tr>\n",
       "    <tr>\n",
       "      <th>14307</th>\n",
       "      <td>BLACK PASTOR BRINGS DOWN THE HOUSE At Trump Ra...</td>\n",
       "      <td>1</td>\n",
       "    </tr>\n",
       "    <tr>\n",
       "      <th>22192</th>\n",
       "      <td>Rhodes Is Wrong And Trump Could Have The Last ...</td>\n",
       "      <td>1</td>\n",
       "    </tr>\n",
       "    <tr>\n",
       "      <th>12275</th>\n",
       "      <td>JILL STEIN’S PA Vote Recount Effort Not Lookin...</td>\n",
       "      <td>1</td>\n",
       "    </tr>\n",
       "    <tr>\n",
       "      <th>5186</th>\n",
       "      <td>CA Democrat Starts Petition Demanding Mental ...</td>\n",
       "      <td>1</td>\n",
       "    </tr>\n",
       "    <tr>\n",
       "      <th>15061</th>\n",
       "      <td>Germany’s Merkel And France’s Hollande Get Ham...</td>\n",
       "      <td>1</td>\n",
       "    </tr>\n",
       "    <tr>\n",
       "      <th>20253</th>\n",
       "      <td>Russia: Moscow does not want to escalate situa...</td>\n",
       "      <td>0</td>\n",
       "    </tr>\n",
       "    <tr>\n",
       "      <th>2412</th>\n",
       "      <td>Trump tells Republicans to get back on healthc...</td>\n",
       "      <td>0</td>\n",
       "    </tr>\n",
       "    <tr>\n",
       "      <th>16248</th>\n",
       "      <td>WOW! 3 MUSLIM BROTHERS Working For Dems In Con...</td>\n",
       "      <td>1</td>\n",
       "    </tr>\n",
       "    <tr>\n",
       "      <th>20512</th>\n",
       "      <td>With Trump meeting, Malaysia's PM seeks to put...</td>\n",
       "      <td>0</td>\n",
       "    </tr>\n",
       "  </tbody>\n",
       "</table>\n",
       "</div>"
      ],
      "text/plain": [
       "                                                   title  fake\n",
       "21069  UK police say cordon in Bolton lifted, package...     0\n",
       "13962  Kosovo war crimes court ready for first indict...     0\n",
       "16375  Four killed, 11 injured as train collides with...     0\n",
       "15434  (Video) Col. Allen West Explodes Over Iran Dea...     1\n",
       "10857  Senate panel to hear from U.S. antitrust bosse...     0\n",
       "2666    Trump Insists His Muslim Ban Has Been ‘Going ...     1\n",
       "3447    Two Of Trump’s Top Picks Accused Of Violently...     1\n",
       "15428  (Video) Breaking: Hillary Clinton Is Facing A ...     1\n",
       "10688  BUSTED! UNCOVERED 2009 VIDEO Shows London’s Mu...     1\n",
       "10429  Florida legislature approves controversial abo...     0\n",
       "18998  The new risk for Europe: an inward-looking Ger...     0\n",
       "14307  BLACK PASTOR BRINGS DOWN THE HOUSE At Trump Ra...     1\n",
       "22192  Rhodes Is Wrong And Trump Could Have The Last ...     1\n",
       "12275  JILL STEIN’S PA Vote Recount Effort Not Lookin...     1\n",
       "5186    CA Democrat Starts Petition Demanding Mental ...     1\n",
       "15061  Germany’s Merkel And France’s Hollande Get Ham...     1\n",
       "20253  Russia: Moscow does not want to escalate situa...     0\n",
       "2412   Trump tells Republicans to get back on healthc...     0\n",
       "16248  WOW! 3 MUSLIM BROTHERS Working For Dems In Con...     1\n",
       "20512  With Trump meeting, Malaysia's PM seeks to put...     0"
      ]
     },
     "execution_count": 6,
     "metadata": {},
     "output_type": "execute_result"
    }
   ],
   "source": [
    "# Shuffle the dataframe so that the true and fake articles are interdispersed.\n",
    "df = df.sample(frac = 1)\n",
    "df.head(20)"
   ]
  },
  {
   "cell_type": "code",
   "execution_count": 7,
   "id": "be77ce29",
   "metadata": {},
   "outputs": [
    {
     "name": "stdout",
     "output_type": "stream",
     "text": [
      "35918 8980 35918 8980\n"
     ]
    }
   ],
   "source": [
    "from sklearn.model_selection import train_test_split\n",
    "\n",
    "# Split the dataframe into the text and outcome (whether the article was real or fake)\n",
    "text = df['title'].to_numpy()\n",
    "outcome = df['fake'].to_numpy()\n",
    "\n",
    "# Split the data into training and validation sets for training and evaluating the final number\n",
    "Train_text, Validation_text, Train_outcome, Validation_outcome = train_test_split(text, outcome, test_size = 0.2, random_state = 42)\n",
    "print(len(Train_text), len(Validation_text), len(Train_outcome), len(Validation_outcome))\n",
    "\n",
    "# average number of words in each training set entry\n",
    "# the averge number of words is then used in vectorisation for the lenght of the vectoriser output\n",
    "avg_words = round(sum([len(i.split(' ')) for i in Train_text])/len(Train_text))\n",
    "max_vocab_length = 10000"
   ]
  },
  {
   "cell_type": "code",
   "execution_count": 8,
   "id": "03574259",
   "metadata": {},
   "outputs": [
    {
     "data": {
      "text/plain": [
       "<tf.Tensor: shape=(1, 427), dtype=int64, numpy=\n",
       "array([[  28,   12,    5, 1238,    0,    0,    0,    0,    0,    0,    0,\n",
       "           0,    0,    0,    0,    0,    0,    0,    0,    0,    0,    0,\n",
       "           0,    0,    0,    0,    0,    0,    0,    0,    0,    0,    0,\n",
       "           0,    0,    0,    0,    0,    0,    0,    0,    0,    0,    0,\n",
       "           0,    0,    0,    0,    0,    0,    0,    0,    0,    0,    0,\n",
       "           0,    0,    0,    0,    0,    0,    0,    0,    0,    0,    0,\n",
       "           0,    0,    0,    0,    0,    0,    0,    0,    0,    0,    0,\n",
       "           0,    0,    0,    0,    0,    0,    0,    0,    0,    0,    0,\n",
       "           0,    0,    0,    0,    0,    0,    0,    0,    0,    0,    0,\n",
       "           0,    0,    0,    0,    0,    0,    0,    0,    0,    0,    0,\n",
       "           0,    0,    0,    0,    0,    0,    0,    0,    0,    0,    0,\n",
       "           0,    0,    0,    0,    0,    0,    0,    0,    0,    0,    0,\n",
       "           0,    0,    0,    0,    0,    0,    0,    0,    0,    0,    0,\n",
       "           0,    0,    0,    0,    0,    0,    0,    0,    0,    0,    0,\n",
       "           0,    0,    0,    0,    0,    0,    0,    0,    0,    0,    0,\n",
       "           0,    0,    0,    0,    0,    0,    0,    0,    0,    0,    0,\n",
       "           0,    0,    0,    0,    0,    0,    0,    0,    0,    0,    0,\n",
       "           0,    0,    0,    0,    0,    0,    0,    0,    0,    0,    0,\n",
       "           0,    0,    0,    0,    0,    0,    0,    0,    0,    0,    0,\n",
       "           0,    0,    0,    0,    0,    0,    0,    0,    0,    0,    0,\n",
       "           0,    0,    0,    0,    0,    0,    0,    0,    0,    0,    0,\n",
       "           0,    0,    0,    0,    0,    0,    0,    0,    0,    0,    0,\n",
       "           0,    0,    0,    0,    0,    0,    0,    0,    0,    0,    0,\n",
       "           0,    0,    0,    0,    0,    0,    0,    0,    0,    0,    0,\n",
       "           0,    0,    0,    0,    0,    0,    0,    0,    0,    0,    0,\n",
       "           0,    0,    0,    0,    0,    0,    0,    0,    0,    0,    0,\n",
       "           0,    0,    0,    0,    0,    0,    0,    0,    0,    0,    0,\n",
       "           0,    0,    0,    0,    0,    0,    0,    0,    0,    0,    0,\n",
       "           0,    0,    0,    0,    0,    0,    0,    0,    0,    0,    0,\n",
       "           0,    0,    0,    0,    0,    0,    0,    0,    0,    0,    0,\n",
       "           0,    0,    0,    0,    0,    0,    0,    0,    0,    0,    0,\n",
       "           0,    0,    0,    0,    0,    0,    0,    0,    0,    0,    0,\n",
       "           0,    0,    0,    0,    0,    0,    0,    0,    0,    0,    0,\n",
       "           0,    0,    0,    0,    0,    0,    0,    0,    0,    0,    0,\n",
       "           0,    0,    0,    0,    0,    0,    0,    0,    0,    0,    0,\n",
       "           0,    0,    0,    0,    0,    0,    0,    0,    0,    0,    0,\n",
       "           0,    0,    0,    0,    0,    0,    0,    0,    0,    0,    0,\n",
       "           0,    0,    0,    0,    0,    0,    0,    0,    0,    0,    0,\n",
       "           0,    0,    0,    0,    0,    0,    0,    0,    0]],\n",
       "      dtype=int64)>"
      ]
     },
     "execution_count": 8,
     "metadata": {},
     "output_type": "execute_result"
    }
   ],
   "source": [
    "# The text vectoriser splits the sample into words, strips punctuation and recombines the substrings into tokens\n",
    "# that can then be embedded as a vector\n",
    "from tensorflow.keras.layers.experimental.preprocessing import TextVectorization\n",
    "text_vectoriser = TextVectorization(max_tokens = max_vocab_length,\n",
    "                                   output_mode = 'int',\n",
    "                                   output_sequence_length = avg_words)\n",
    "# Vectorise the training text\n",
    "text_vectoriser.adapt(Train_text)\n",
    "\n",
    "test_sentence = 'This is a test'\n",
    "text_vectoriser([test_sentence])"
   ]
  },
  {
   "cell_type": "code",
   "execution_count": 9,
   "id": "91dcc56a",
   "metadata": {},
   "outputs": [],
   "source": [
    "from tensorflow.keras import layers\n",
    "\n",
    "#The embedding layer converts each word into a fixed length vector \n",
    "embedding = layers.Embedding(input_dim = max_vocab_length,\n",
    "                            output_dim = 128,\n",
    "                            embeddings_initializer = 'uniform',\n",
    "                             input_length = avg_words)"
   ]
  },
  {
   "cell_type": "code",
   "execution_count": 10,
   "id": "95b36511",
   "metadata": {},
   "outputs": [],
   "source": [
    "# Define the layers for the neural network\n",
    "# A Long Short Term Memory network (LSTM) network is used as they are capable of learning order dependence\n",
    "\n",
    "inputs = layers.Input(shape = (1,), dtype = 'string')\n",
    "\n",
    "x = text_vectoriser(inputs)\n",
    "\n",
    "x = embedding(x)\n",
    "\n",
    "x = layers.LSTM(64)(x)\n",
    "\n",
    "outputs = layers.Dense(1, activation = 'sigmoid')(x)\n",
    "\n",
    "model = tf.keras.Model(inputs, outputs, name = 'Model_LSTM')"
   ]
  },
  {
   "cell_type": "code",
   "execution_count": 11,
   "id": "e0d28881",
   "metadata": {},
   "outputs": [
    {
     "name": "stdout",
     "output_type": "stream",
     "text": [
      "Model: \"Model_LSTM\"\n",
      "_________________________________________________________________\n",
      " Layer (type)                Output Shape              Param #   \n",
      "=================================================================\n",
      " input_1 (InputLayer)        [(None, 1)]               0         \n",
      "                                                                 \n",
      " text_vectorization (TextVec  (None, 427)              0         \n",
      " torization)                                                     \n",
      "                                                                 \n",
      " embedding (Embedding)       (None, 427, 128)          1280000   \n",
      "                                                                 \n",
      " lstm (LSTM)                 (None, 64)                49408     \n",
      "                                                                 \n",
      " dense (Dense)               (None, 1)                 65        \n",
      "                                                                 \n",
      "=================================================================\n",
      "Total params: 1,329,473\n",
      "Trainable params: 1,329,473\n",
      "Non-trainable params: 0\n",
      "_________________________________________________________________\n"
     ]
    }
   ],
   "source": [
    "model.summary()"
   ]
  },
  {
   "cell_type": "code",
   "execution_count": 12,
   "id": "b312287e",
   "metadata": {},
   "outputs": [],
   "source": [
    "# Compile the model\n",
    "model.compile(loss = 'binary_crossentropy', optimizer = 'adam', metrics = ['accuracy'])"
   ]
  },
  {
   "cell_type": "code",
   "execution_count": 13,
   "id": "9554a0d7",
   "metadata": {},
   "outputs": [
    {
     "name": "stdout",
     "output_type": "stream",
     "text": [
      "Epoch 1/5\n",
      "1123/1123 [==============================] - 256s 226ms/step - loss: 0.5478 - accuracy: 0.7093 - val_loss: 0.5975 - val_accuracy: 0.6383\n",
      "Epoch 2/5\n",
      "1123/1123 [==============================] - 311s 277ms/step - loss: 0.2853 - accuracy: 0.8893 - val_loss: 0.2056 - val_accuracy: 0.9424\n",
      "Epoch 3/5\n",
      "1123/1123 [==============================] - 316s 282ms/step - loss: 0.2671 - accuracy: 0.8982 - val_loss: 0.1544 - val_accuracy: 0.9622\n",
      "Epoch 4/5\n",
      "1123/1123 [==============================] - 304s 271ms/step - loss: 0.2591 - accuracy: 0.9004 - val_loss: 0.0678 - val_accuracy: 0.9832\n",
      "Epoch 5/5\n",
      "1123/1123 [==============================] - 284s 253ms/step - loss: 0.0286 - accuracy: 0.9930 - val_loss: 0.0179 - val_accuracy: 0.9959\n"
     ]
    }
   ],
   "source": [
    "# Train the model on the train text and outcomes\n",
    "model_history = model.fit(Train_text, Train_outcome, epochs = 5, validation_data = (Validation_text, Validation_outcome))"
   ]
  },
  {
   "cell_type": "code",
   "execution_count": 14,
   "id": "478b3f30",
   "metadata": {},
   "outputs": [
    {
     "name": "stdout",
     "output_type": "stream",
     "text": [
      "281/281 [==============================] - 16s 53ms/step\n"
     ]
    },
    {
     "data": {
      "text/plain": [
       "array([[0.9951876 ],\n",
       "       [0.996132  ],\n",
       "       [0.0021497 ],\n",
       "       [0.00203056],\n",
       "       [0.01528802],\n",
       "       [0.00946435],\n",
       "       [0.02035941],\n",
       "       [0.00179504],\n",
       "       [0.9979406 ],\n",
       "       [0.99588513]], dtype=float32)"
      ]
     },
     "execution_count": 14,
     "metadata": {},
     "output_type": "execute_result"
    }
   ],
   "source": [
    "# Use the model to predict on the validation texts\n",
    "model_prediction = model.predict(Validation_text)\n",
    "model_prediction[:10]"
   ]
  },
  {
   "cell_type": "code",
   "execution_count": 15,
   "id": "3dbec230",
   "metadata": {},
   "outputs": [
    {
     "data": {
      "text/plain": [
       "<tf.Tensor: shape=(10,), dtype=float32, numpy=array([1., 1., 0., 0., 0., 0., 0., 0., 1., 1.], dtype=float32)>"
      ]
     },
     "execution_count": 15,
     "metadata": {},
     "output_type": "execute_result"
    }
   ],
   "source": [
    "# cleans up the output of the prediction\n",
    "preds = tf.squeeze(tf.round(model_prediction))\n",
    "preds[:10]"
   ]
  },
  {
   "cell_type": "code",
   "execution_count": 16,
   "id": "060f8b85",
   "metadata": {},
   "outputs": [
    {
     "name": "stdout",
     "output_type": "stream",
     "text": [
      "281/281 [==============================] - 15s 53ms/step - loss: 0.0179 - accuracy: 0.9959\n",
      "accuracy : 99.59%\n"
     ]
    }
   ],
   "source": [
    "# Generate confusion matrix and accuracy of the model.\n",
    "from sklearn.metrics import confusion_matrix\n",
    "matrix = confusion_matrix(Validation_outcome,preds)\n",
    "scores =  model.evaluate(Validation_text, Validation_outcome)\n",
    "print(f'{model.metrics_names[1]} : {round(scores[1]*100,2)}%')"
   ]
  },
  {
   "cell_type": "code",
   "execution_count": 17,
   "id": "da06ff25",
   "metadata": {},
   "outputs": [
    {
     "name": "stdout",
     "output_type": "stream",
     "text": [
      "[[4253   23]\n",
      " [  14 4690]]\n"
     ]
    }
   ],
   "source": [
    "print(matrix)"
   ]
  },
  {
   "cell_type": "code",
   "execution_count": null,
   "id": "9d106d86",
   "metadata": {},
   "outputs": [],
   "source": [
    "t"
   ]
  }
 ],
 "metadata": {
  "kernelspec": {
   "display_name": "Python 3 (ipykernel)",
   "language": "python",
   "name": "python3"
  },
  "language_info": {
   "codemirror_mode": {
    "name": "ipython",
    "version": 3
   },
   "file_extension": ".py",
   "mimetype": "text/x-python",
   "name": "python",
   "nbconvert_exporter": "python",
   "pygments_lexer": "ipython3",
   "version": "3.9.12"
  }
 },
 "nbformat": 4,
 "nbformat_minor": 5
}
